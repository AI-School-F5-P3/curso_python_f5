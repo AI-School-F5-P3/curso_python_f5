{
  "cells": [
    {
      "cell_type": "markdown",
      "metadata": {
        "id": "0UyvmBl3deHK"
      },
      "source": [
        "Grupo 5: Manejo de Archivos y Estructuras de Datos Avanzadas\n",
        "* Manejo de archivos: Apertura, lectura, escritura y cierre de archivos.\n",
        "* Diccionarios: Creación, acceso y manipulación de pares clave-valor.\n",
        "* Conjuntos: Operaciones básicas con sets.\n",
        "* Manejo de excepciones: Try, except, else, finally."
      ]
    },
    {
      "cell_type": "markdown",
      "metadata": {
        "id": "bmeS8k8mbn2s"
      },
      "source": [
        "# Crear archivos (CSV), lectura y escritura"
      ]
    },
    {
      "cell_type": "code",
      "execution_count": null,
      "metadata": {
        "id": "S9_U9XwxbZPh"
      },
      "outputs": [
        {
          "ename": "",
          "evalue": "",
          "output_type": "error",
          "traceback": [
            "\u001b[1;31mRunning cells with 'Python 3.12.4' requires the ipykernel package.\n",
            "\u001b[1;31mRun the following command to install 'ipykernel' into the Python environment. \n",
            "\u001b[1;31mCommand: 'c:/Users/ang01/AppData/Local/Programs/Python/Python312/python.exe -m pip install ipykernel -U --user --force-reinstall'"
          ]
        }
      ],
      "source": [
        "import csv"
      ]
    },
    {
      "cell_type": "code",
      "execution_count": null,
      "metadata": {
        "colab": {
          "base_uri": "https://localhost:8080/"
        },
        "id": "eCSGGpxpbdtj",
        "outputId": "32671097-34fc-4155-e0ac-238435d2b040"
      },
      "outputs": [
        {
          "name": "stdout",
          "output_type": "stream",
          "text": [
            "Archivo CSV creado y datos escritos exitosamente.\n"
          ]
        }
      ],
      "source": [
        "# Datos que queremos escribir en el archivo CSV\n",
        "datos = [\n",
        "    ['Nombre', 'Edad', 'Ciudad'],\n",
        "    ['Angel', 48, 'Madrid'],\n",
        "    ['Esther', 30, 'Cádiz'],\n",
        "    ['Luis', 33, 'Caracas'],\n",
        "    ['Weixin', 36, 'Madrid'],\n",
        "]\n",
        "\n",
        "# Crear y escribir en un archivo CSV\n",
        "with open('datos.csv', 'w', newline='') as archivo_csv:\n",
        "    escritor_csv = csv.writer(archivo_csv)\n",
        "    escritor_csv.writerows(datos)\n",
        "\n",
        "print(\"Archivo CSV creado y datos escritos exitosamente.\")"
      ]
    },
    {
      "cell_type": "code",
      "execution_count": null,
      "metadata": {
        "colab": {
          "base_uri": "https://localhost:8080/"
        },
        "id": "mZm0JTIimOnq",
        "outputId": "a5dc7e04-200b-4b11-b4ac-9c9dd4101a69"
      },
      "outputs": [
        {
          "data": {
            "text/plain": [
              "[['Nombre', 'Edad', 'Ciudad'],\n",
              " ['Angel', 48, 'Madrid'],\n",
              " ['Esther', 30, 'Cádiz'],\n",
              " ['Luis', 33, 'Caracas'],\n",
              " ['Weixin', 36, 'Madrid']]"
            ]
          },
          "execution_count": 28,
          "metadata": {},
          "output_type": "execute_result"
        }
      ],
      "source": [
        "datos"
      ]
    },
    {
      "cell_type": "code",
      "execution_count": null,
      "metadata": {
        "colab": {
          "base_uri": "https://localhost:8080/"
        },
        "id": "QQGs7WUzEZxX",
        "outputId": "a1dc92f3-bb73-46c8-a88b-2f6cdfed28bc"
      },
      "outputs": [
        {
          "name": "stdout",
          "output_type": "stream",
          "text": [
            "['Nombre', 'Edad', 'Ciudad']\n",
            "['Angel', '48', 'Madrid']\n",
            "['Esther', '30', 'Cádiz']\n",
            "['Luis', '33', 'Caracas']\n",
            "['Weixin', '36', 'Madrid']\n"
          ]
        }
      ],
      "source": [
        "#Abrir y cerrar un archivo CSV sin usar with\n",
        "archivo_csv = open('datos.csv', 'r')\n",
        "lector_csv = csv.reader(archivo_csv)\n",
        "for i in lector_csv:\n",
        "    print(i)\n",
        "archivo_csv.close()"
      ]
    },
    {
      "cell_type": "code",
      "execution_count": null,
      "metadata": {
        "colab": {
          "base_uri": "https://localhost:8080/"
        },
        "id": "L8j-LKDhhyys",
        "outputId": "d9622783-fd6f-46e6-e9e7-8fc6498fb7fe"
      },
      "outputs": [
        {
          "name": "stdout",
          "output_type": "stream",
          "text": [
            "['Nombre', 'Edad', 'Ciudad']\n",
            "['Angel', '48', 'Madrid']\n",
            "['Esther', '30', 'Cádiz']\n",
            "['Luis', '33', 'Caracas']\n",
            "['Weixin', '36', 'Madrid']\n"
          ]
        }
      ],
      "source": [
        "\n",
        "# Leer un archivo CSV\n",
        "with open('datos.csv', 'r') as archivo_csv:\n",
        "    lector_csv = csv.reader(archivo_csv)\n",
        "    for fila in lector_csv:\n",
        "        print(fila)\n"
      ]
    },
    {
      "cell_type": "code",
      "execution_count": null,
      "metadata": {
        "colab": {
          "base_uri": "https://localhost:8080/"
        },
        "id": "T0skyh4zh2VO",
        "outputId": "b2b57f4f-ca1f-4659-ac08-305ccf3683cc"
      },
      "outputs": [
        {
          "name": "stdout",
          "output_type": "stream",
          "text": [
            "Archivo CSV (usando DictWriter) creado y datos escritos exitosamente.\n"
          ]
        }
      ],
      "source": [
        "# Ejemplo extra para acceder a los archivos con DictWriter\n",
        "\n",
        "# Datos como diccionarios\n",
        "datos = [\n",
        "    {'Nombre': 'Angel', 'Edad': 48, 'Ciudad': 'Madrid'},\n",
        "    {'Nombre': 'Esther', 'Edad': 30, 'Ciudad': 'Cádiz'},\n",
        "    {'Nombre': 'Luis', 'Edad': 35, 'Ciudad': 'Valencia'}\n",
        "]\n",
        "\n",
        "# Obtener las cabeceras del diccionario\n",
        "cabeceras = datos[0].keys()\n",
        "\n",
        "# Crear y escribir en un archivo CSV usando DictWriter\n",
        "with open('datos_dict.csv', 'w', newline='') as archivo_csv:\n",
        "    escritor_csv = csv.DictWriter(archivo_csv, fieldnames=cabeceras)\n",
        "    escritor_csv.writeheader()\n",
        "    escritor_csv.writerows(datos)\n",
        "\n",
        "print(\"Archivo CSV (usando DictWriter) creado y datos escritos exitosamente.\")\n"
      ]
    },
    {
      "cell_type": "code",
      "execution_count": null,
      "metadata": {
        "colab": {
          "base_uri": "https://localhost:8080/"
        },
        "id": "Ypsg6Svun3XJ",
        "outputId": "3b314fa4-2543-409a-c179-36ec3090289b"
      },
      "outputs": [
        {
          "data": {
            "text/plain": [
              "[{'Nombre': 'Angel', 'Edad': 48, 'Ciudad': 'Madrid'},\n",
              " {'Nombre': 'Esther', 'Edad': 30, 'Ciudad': 'Cádiz'},\n",
              " {'Nombre': 'Luis', 'Edad': 35, 'Ciudad': 'Valencia'}]"
            ]
          },
          "execution_count": 32,
          "metadata": {},
          "output_type": "execute_result"
        }
      ],
      "source": [
        "datos"
      ]
    },
    {
      "cell_type": "code",
      "execution_count": null,
      "metadata": {
        "colab": {
          "base_uri": "https://localhost:8080/"
        },
        "id": "bLSp082Eh7Dg",
        "outputId": "1a5a3a1d-7151-43a7-a500-69b1dc87eb37"
      },
      "outputs": [
        {
          "name": "stdout",
          "output_type": "stream",
          "text": [
            "{'Nombre': 'Angel', 'Edad': '48', 'Ciudad': 'Madrid'}\n",
            "{'Nombre': 'Esther', 'Edad': '30', 'Ciudad': 'Cádiz'}\n",
            "{'Nombre': 'Luis', 'Edad': '35', 'Ciudad': 'Valencia'}\n"
          ]
        }
      ],
      "source": [
        "\n",
        "\n",
        "# Leer un archivo CSV usando DictReader\n",
        "with open('datos_dict.csv', 'r') as archivo_csv:\n",
        "    lector_csv = csv.DictReader(archivo_csv)\n",
        "    for fila in lector_csv:\n",
        "        print(fila)\n"
      ]
    },
    {
      "cell_type": "markdown",
      "metadata": {
        "id": "e6MEuC9piBoW"
      },
      "source": [
        "# Crear y escribir archivo de texto"
      ]
    },
    {
      "cell_type": "code",
      "execution_count": null,
      "metadata": {
        "colab": {
          "base_uri": "https://localhost:8080/"
        },
        "id": "59Oe4s7biJei",
        "outputId": "7ae675e9-a966-41ad-fcca-f89fdfaeed52"
      },
      "outputs": [
        {
          "name": "stdout",
          "output_type": "stream",
          "text": [
            "Archivo de texto creado y datos escritos exitosamente.\n"
          ]
        }
      ],
      "source": [
        "# Crear y escribir en un archivo de texto\n",
        "with open('archivo_texto.txt', 'w') as archivo_texto:\n",
        "    archivo_texto.write(\"Hola, mundo!\\n\")\n",
        "    archivo_texto.write(\"Este es un archivo de texto.\\n\")\n",
        "    archivo_texto.write(\"Python facilita el manejo de archivos.\")\n",
        "\n",
        "print(\"Archivo de texto creado y datos escritos exitosamente.\")\n"
      ]
    },
    {
      "cell_type": "code",
      "execution_count": null,
      "metadata": {
        "colab": {
          "base_uri": "https://localhost:8080/"
        },
        "id": "njdNfxVqiL9D",
        "outputId": "775499ce-22ab-4988-baf6-a895cb05ac39"
      },
      "outputs": [
        {
          "name": "stdout",
          "output_type": "stream",
          "text": [
            "Contenido del archivo de texto:\n",
            "Hola, mundo!\n",
            "Este es un archivo de texto.\n",
            "Python facilita el manejo de archivos.\n"
          ]
        }
      ],
      "source": [
        "# Leer el archivo de texto\n",
        "with open('archivo_texto.txt', 'r') as archivo_texto:\n",
        "    contenido = archivo_texto.read()\n",
        "    print(\"Contenido del archivo de texto:\")\n",
        "    print(contenido)\n"
      ]
    },
    {
      "cell_type": "code",
      "execution_count": null,
      "metadata": {
        "colab": {
          "base_uri": "https://localhost:8080/"
        },
        "id": "Aq0uIHItiNez",
        "outputId": "7377d3e5-12f7-4028-a9af-d9053c4d8970"
      },
      "outputs": [
        {
          "name": "stdout",
          "output_type": "stream",
          "text": [
            "Nuevo contenido añadido al archivo de texto exitosamente.\n"
          ]
        }
      ],
      "source": [
        "# Añadir contenido a un archivo de texto\n",
        "with open('archivo_texto.txt', 'a') as archivo_texto:\n",
        "    archivo_texto.write(\"\\nAñadiendo una nueva línea al archivo.\")\n",
        "\n",
        "print(\"Nuevo contenido añadido al archivo de texto exitosamente.\")\n"
      ]
    },
    {
      "cell_type": "code",
      "execution_count": null,
      "metadata": {
        "colab": {
          "base_uri": "https://localhost:8080/"
        },
        "id": "bac35sK4iPIH",
        "outputId": "6f76f2a1-2917-4551-96d1-2fc67598dc1d"
      },
      "outputs": [
        {
          "name": "stdout",
          "output_type": "stream",
          "text": [
            "Contenido del archivo de texto línea por línea:\n",
            "Hola, mundo!\n",
            "Este es un archivo de texto.\n",
            "Python facilita el manejo de archivos.\n",
            "Añadiendo una nueva línea al archivo.\n"
          ]
        }
      ],
      "source": [
        "# Leer el archivo de texto línea por línea\n",
        "with open('archivo_texto.txt', 'r') as archivo_texto:\n",
        "    print(\"Contenido del archivo de texto línea por línea:\")\n",
        "    for linea in archivo_texto:\n",
        "        print(linea.strip())\n"
      ]
    },
    {
      "cell_type": "code",
      "execution_count": null,
      "metadata": {
        "id": "vdlVCUqEHlIn"
      },
      "outputs": [],
      "source": [
        "import pandas as pd"
      ]
    },
    {
      "cell_type": "code",
      "execution_count": null,
      "metadata": {
        "id": "_8zPeHz4V47k"
      },
      "outputs": [],
      "source": [
        "# Importar desde local de colab\n",
        "df = pd.read_csv('/content/datos.csv')"
      ]
    },
    {
      "cell_type": "code",
      "execution_count": null,
      "metadata": {
        "colab": {
          "base_uri": "https://localhost:8080/",
          "height": 195
        },
        "id": "znuKY91PWYTF",
        "outputId": "e90a473d-f681-42c9-acbe-1befac8bc2cd"
      },
      "outputs": [
        {
          "data": {
            "application/vnd.google.colaboratory.intrinsic+json": {
              "summary": "{\n  \"name\": \"df\",\n  \"rows\": 4,\n  \"fields\": [\n    {\n      \"column\": \"Nombre\",\n      \"properties\": {\n        \"dtype\": \"string\",\n        \"num_unique_values\": 4,\n        \"samples\": [\n          \"Esther\",\n          \"Weixin\",\n          \"Angel\"\n        ],\n        \"semantic_type\": \"\",\n        \"description\": \"\"\n      }\n    },\n    {\n      \"column\": \"Edad\",\n      \"properties\": {\n        \"dtype\": \"number\",\n        \"std\": 7,\n        \"min\": 30,\n        \"max\": 48,\n        \"num_unique_values\": 4,\n        \"samples\": [\n          30,\n          36,\n          48\n        ],\n        \"semantic_type\": \"\",\n        \"description\": \"\"\n      }\n    },\n    {\n      \"column\": \"Ciudad\",\n      \"properties\": {\n        \"dtype\": \"string\",\n        \"num_unique_values\": 3,\n        \"samples\": [\n          \"Madrid\",\n          \"C\\u00e1diz\",\n          \"Caracas\"\n        ],\n        \"semantic_type\": \"\",\n        \"description\": \"\"\n      }\n    }\n  ]\n}",
              "type": "dataframe",
              "variable_name": "df"
            },
            "text/html": [
              "\n",
              "  <div id=\"df-e0d2b744-7c04-4e20-a603-84a4939ea1fd\" class=\"colab-df-container\">\n",
              "    <div>\n",
              "<style scoped>\n",
              "    .dataframe tbody tr th:only-of-type {\n",
              "        vertical-align: middle;\n",
              "    }\n",
              "\n",
              "    .dataframe tbody tr th {\n",
              "        vertical-align: top;\n",
              "    }\n",
              "\n",
              "    .dataframe thead th {\n",
              "        text-align: right;\n",
              "    }\n",
              "</style>\n",
              "<table border=\"1\" class=\"dataframe\">\n",
              "  <thead>\n",
              "    <tr style=\"text-align: right;\">\n",
              "      <th></th>\n",
              "      <th>Nombre</th>\n",
              "      <th>Edad</th>\n",
              "      <th>Ciudad</th>\n",
              "    </tr>\n",
              "  </thead>\n",
              "  <tbody>\n",
              "    <tr>\n",
              "      <th>0</th>\n",
              "      <td>Angel</td>\n",
              "      <td>48</td>\n",
              "      <td>Madrid</td>\n",
              "    </tr>\n",
              "    <tr>\n",
              "      <th>1</th>\n",
              "      <td>Esther</td>\n",
              "      <td>30</td>\n",
              "      <td>Cádiz</td>\n",
              "    </tr>\n",
              "    <tr>\n",
              "      <th>2</th>\n",
              "      <td>Luis</td>\n",
              "      <td>33</td>\n",
              "      <td>Caracas</td>\n",
              "    </tr>\n",
              "    <tr>\n",
              "      <th>3</th>\n",
              "      <td>Weixin</td>\n",
              "      <td>36</td>\n",
              "      <td>Madrid</td>\n",
              "    </tr>\n",
              "  </tbody>\n",
              "</table>\n",
              "</div>\n",
              "    <div class=\"colab-df-buttons\">\n",
              "\n",
              "  <div class=\"colab-df-container\">\n",
              "    <button class=\"colab-df-convert\" onclick=\"convertToInteractive('df-e0d2b744-7c04-4e20-a603-84a4939ea1fd')\"\n",
              "            title=\"Convert this dataframe to an interactive table.\"\n",
              "            style=\"display:none;\">\n",
              "\n",
              "  <svg xmlns=\"http://www.w3.org/2000/svg\" height=\"24px\" viewBox=\"0 -960 960 960\">\n",
              "    <path d=\"M120-120v-720h720v720H120Zm60-500h600v-160H180v160Zm220 220h160v-160H400v160Zm0 220h160v-160H400v160ZM180-400h160v-160H180v160Zm440 0h160v-160H620v160ZM180-180h160v-160H180v160Zm440 0h160v-160H620v160Z\"/>\n",
              "  </svg>\n",
              "    </button>\n",
              "\n",
              "  <style>\n",
              "    .colab-df-container {\n",
              "      display:flex;\n",
              "      gap: 12px;\n",
              "    }\n",
              "\n",
              "    .colab-df-convert {\n",
              "      background-color: #E8F0FE;\n",
              "      border: none;\n",
              "      border-radius: 50%;\n",
              "      cursor: pointer;\n",
              "      display: none;\n",
              "      fill: #1967D2;\n",
              "      height: 32px;\n",
              "      padding: 0 0 0 0;\n",
              "      width: 32px;\n",
              "    }\n",
              "\n",
              "    .colab-df-convert:hover {\n",
              "      background-color: #E2EBFA;\n",
              "      box-shadow: 0px 1px 2px rgba(60, 64, 67, 0.3), 0px 1px 3px 1px rgba(60, 64, 67, 0.15);\n",
              "      fill: #174EA6;\n",
              "    }\n",
              "\n",
              "    .colab-df-buttons div {\n",
              "      margin-bottom: 4px;\n",
              "    }\n",
              "\n",
              "    [theme=dark] .colab-df-convert {\n",
              "      background-color: #3B4455;\n",
              "      fill: #D2E3FC;\n",
              "    }\n",
              "\n",
              "    [theme=dark] .colab-df-convert:hover {\n",
              "      background-color: #434B5C;\n",
              "      box-shadow: 0px 1px 3px 1px rgba(0, 0, 0, 0.15);\n",
              "      filter: drop-shadow(0px 1px 2px rgba(0, 0, 0, 0.3));\n",
              "      fill: #FFFFFF;\n",
              "    }\n",
              "  </style>\n",
              "\n",
              "    <script>\n",
              "      const buttonEl =\n",
              "        document.querySelector('#df-e0d2b744-7c04-4e20-a603-84a4939ea1fd button.colab-df-convert');\n",
              "      buttonEl.style.display =\n",
              "        google.colab.kernel.accessAllowed ? 'block' : 'none';\n",
              "\n",
              "      async function convertToInteractive(key) {\n",
              "        const element = document.querySelector('#df-e0d2b744-7c04-4e20-a603-84a4939ea1fd');\n",
              "        const dataTable =\n",
              "          await google.colab.kernel.invokeFunction('convertToInteractive',\n",
              "                                                    [key], {});\n",
              "        if (!dataTable) return;\n",
              "\n",
              "        const docLinkHtml = 'Like what you see? Visit the ' +\n",
              "          '<a target=\"_blank\" href=https://colab.research.google.com/notebooks/data_table.ipynb>data table notebook</a>'\n",
              "          + ' to learn more about interactive tables.';\n",
              "        element.innerHTML = '';\n",
              "        dataTable['output_type'] = 'display_data';\n",
              "        await google.colab.output.renderOutput(dataTable, element);\n",
              "        const docLink = document.createElement('div');\n",
              "        docLink.innerHTML = docLinkHtml;\n",
              "        element.appendChild(docLink);\n",
              "      }\n",
              "    </script>\n",
              "  </div>\n",
              "\n",
              "\n",
              "<div id=\"df-3687841b-bd1d-4941-8ff6-8b80496660b2\">\n",
              "  <button class=\"colab-df-quickchart\" onclick=\"quickchart('df-3687841b-bd1d-4941-8ff6-8b80496660b2')\"\n",
              "            title=\"Suggest charts\"\n",
              "            style=\"display:none;\">\n",
              "\n",
              "<svg xmlns=\"http://www.w3.org/2000/svg\" height=\"24px\"viewBox=\"0 0 24 24\"\n",
              "     width=\"24px\">\n",
              "    <g>\n",
              "        <path d=\"M19 3H5c-1.1 0-2 .9-2 2v14c0 1.1.9 2 2 2h14c1.1 0 2-.9 2-2V5c0-1.1-.9-2-2-2zM9 17H7v-7h2v7zm4 0h-2V7h2v10zm4 0h-2v-4h2v4z\"/>\n",
              "    </g>\n",
              "</svg>\n",
              "  </button>\n",
              "\n",
              "<style>\n",
              "  .colab-df-quickchart {\n",
              "      --bg-color: #E8F0FE;\n",
              "      --fill-color: #1967D2;\n",
              "      --hover-bg-color: #E2EBFA;\n",
              "      --hover-fill-color: #174EA6;\n",
              "      --disabled-fill-color: #AAA;\n",
              "      --disabled-bg-color: #DDD;\n",
              "  }\n",
              "\n",
              "  [theme=dark] .colab-df-quickchart {\n",
              "      --bg-color: #3B4455;\n",
              "      --fill-color: #D2E3FC;\n",
              "      --hover-bg-color: #434B5C;\n",
              "      --hover-fill-color: #FFFFFF;\n",
              "      --disabled-bg-color: #3B4455;\n",
              "      --disabled-fill-color: #666;\n",
              "  }\n",
              "\n",
              "  .colab-df-quickchart {\n",
              "    background-color: var(--bg-color);\n",
              "    border: none;\n",
              "    border-radius: 50%;\n",
              "    cursor: pointer;\n",
              "    display: none;\n",
              "    fill: var(--fill-color);\n",
              "    height: 32px;\n",
              "    padding: 0;\n",
              "    width: 32px;\n",
              "  }\n",
              "\n",
              "  .colab-df-quickchart:hover {\n",
              "    background-color: var(--hover-bg-color);\n",
              "    box-shadow: 0 1px 2px rgba(60, 64, 67, 0.3), 0 1px 3px 1px rgba(60, 64, 67, 0.15);\n",
              "    fill: var(--button-hover-fill-color);\n",
              "  }\n",
              "\n",
              "  .colab-df-quickchart-complete:disabled,\n",
              "  .colab-df-quickchart-complete:disabled:hover {\n",
              "    background-color: var(--disabled-bg-color);\n",
              "    fill: var(--disabled-fill-color);\n",
              "    box-shadow: none;\n",
              "  }\n",
              "\n",
              "  .colab-df-spinner {\n",
              "    border: 2px solid var(--fill-color);\n",
              "    border-color: transparent;\n",
              "    border-bottom-color: var(--fill-color);\n",
              "    animation:\n",
              "      spin 1s steps(1) infinite;\n",
              "  }\n",
              "\n",
              "  @keyframes spin {\n",
              "    0% {\n",
              "      border-color: transparent;\n",
              "      border-bottom-color: var(--fill-color);\n",
              "      border-left-color: var(--fill-color);\n",
              "    }\n",
              "    20% {\n",
              "      border-color: transparent;\n",
              "      border-left-color: var(--fill-color);\n",
              "      border-top-color: var(--fill-color);\n",
              "    }\n",
              "    30% {\n",
              "      border-color: transparent;\n",
              "      border-left-color: var(--fill-color);\n",
              "      border-top-color: var(--fill-color);\n",
              "      border-right-color: var(--fill-color);\n",
              "    }\n",
              "    40% {\n",
              "      border-color: transparent;\n",
              "      border-right-color: var(--fill-color);\n",
              "      border-top-color: var(--fill-color);\n",
              "    }\n",
              "    60% {\n",
              "      border-color: transparent;\n",
              "      border-right-color: var(--fill-color);\n",
              "    }\n",
              "    80% {\n",
              "      border-color: transparent;\n",
              "      border-right-color: var(--fill-color);\n",
              "      border-bottom-color: var(--fill-color);\n",
              "    }\n",
              "    90% {\n",
              "      border-color: transparent;\n",
              "      border-bottom-color: var(--fill-color);\n",
              "    }\n",
              "  }\n",
              "</style>\n",
              "\n",
              "  <script>\n",
              "    async function quickchart(key) {\n",
              "      const quickchartButtonEl =\n",
              "        document.querySelector('#' + key + ' button');\n",
              "      quickchartButtonEl.disabled = true;  // To prevent multiple clicks.\n",
              "      quickchartButtonEl.classList.add('colab-df-spinner');\n",
              "      try {\n",
              "        const charts = await google.colab.kernel.invokeFunction(\n",
              "            'suggestCharts', [key], {});\n",
              "      } catch (error) {\n",
              "        console.error('Error during call to suggestCharts:', error);\n",
              "      }\n",
              "      quickchartButtonEl.classList.remove('colab-df-spinner');\n",
              "      quickchartButtonEl.classList.add('colab-df-quickchart-complete');\n",
              "    }\n",
              "    (() => {\n",
              "      let quickchartButtonEl =\n",
              "        document.querySelector('#df-3687841b-bd1d-4941-8ff6-8b80496660b2 button');\n",
              "      quickchartButtonEl.style.display =\n",
              "        google.colab.kernel.accessAllowed ? 'block' : 'none';\n",
              "    })();\n",
              "  </script>\n",
              "</div>\n",
              "    </div>\n",
              "  </div>\n"
            ],
            "text/plain": [
              "   Nombre  Edad   Ciudad\n",
              "0   Angel    48   Madrid\n",
              "1  Esther    30    Cádiz\n",
              "2    Luis    33  Caracas\n",
              "3  Weixin    36   Madrid"
            ]
          },
          "execution_count": 114,
          "metadata": {},
          "output_type": "execute_result"
        }
      ],
      "source": [
        "df"
      ]
    },
    {
      "cell_type": "code",
      "execution_count": null,
      "metadata": {
        "id": "POxMFU7QWulS"
      },
      "outputs": [],
      "source": [
        "# importar desde url de descarga\n",
        "df = pd.read_csv(\"https://docs.google.com/spreadsheets/d/1BA8IP2VsCZAQ2MMxq1twrindVGMU7JHe4Qrdn-8N9Oc/export?format=csv&gid=2056133412\")"
      ]
    },
    {
      "cell_type": "code",
      "execution_count": null,
      "metadata": {
        "colab": {
          "base_uri": "https://localhost:8080/",
          "height": 853
        },
        "id": "y5jkFSGSW2De",
        "outputId": "9be39d4d-32b8-41cc-8aad-4a396e877f18"
      },
      "outputs": [
        {
          "data": {
            "application/vnd.google.colaboratory.intrinsic+json": {
              "summary": "{\n  \"name\": \"df\",\n  \"rows\": 25,\n  \"fields\": [\n    {\n      \"column\": \"Nombre\",\n      \"properties\": {\n        \"dtype\": \"string\",\n        \"num_unique_values\": 25,\n        \"samples\": [\n          \"Antonio Mart\\u00ednez\",\n          \"Samuel G\\u00f3mez\",\n          \"Roberto Alfaro\"\n        ],\n        \"semantic_type\": \"\",\n        \"description\": \"\"\n      }\n    },\n    {\n      \"column\": \"Edad\",\n      \"properties\": {\n        \"dtype\": \"number\",\n        \"std\": 2,\n        \"min\": 18,\n        \"max\": 25,\n        \"num_unique_values\": 8,\n        \"samples\": [\n          20,\n          24,\n          19\n        ],\n        \"semantic_type\": \"\",\n        \"description\": \"\"\n      }\n    },\n    {\n      \"column\": \"Peso\",\n      \"properties\": {\n        \"dtype\": \"number\",\n        \"std\": 8,\n        \"min\": 49,\n        \"max\": 80,\n        \"num_unique_values\": 20,\n        \"samples\": [\n          70,\n          63,\n          69\n        ],\n        \"semantic_type\": \"\",\n        \"description\": \"\"\n      }\n    },\n    {\n      \"column\": \"Altura\",\n      \"properties\": {\n        \"dtype\": \"number\",\n        \"std\": 0.08682741502543997,\n        \"min\": 1.5,\n        \"max\": 1.82,\n        \"num_unique_values\": 18,\n        \"samples\": [\n          1.78,\n          1.6,\n          1.65\n        ],\n        \"semantic_type\": \"\",\n        \"description\": \"\"\n      }\n    },\n    {\n      \"column\": \"Genero\",\n      \"properties\": {\n        \"dtype\": \"category\",\n        \"num_unique_values\": 2,\n        \"samples\": [\n          \"Mujer\",\n          \"Hombre\"\n        ],\n        \"semantic_type\": \"\",\n        \"description\": \"\"\n      }\n    }\n  ]\n}",
              "type": "dataframe",
              "variable_name": "df"
            },
            "text/html": [
              "\n",
              "  <div id=\"df-47c8b571-9441-40ec-bd86-41a23a8679ce\" class=\"colab-df-container\">\n",
              "    <div>\n",
              "<style scoped>\n",
              "    .dataframe tbody tr th:only-of-type {\n",
              "        vertical-align: middle;\n",
              "    }\n",
              "\n",
              "    .dataframe tbody tr th {\n",
              "        vertical-align: top;\n",
              "    }\n",
              "\n",
              "    .dataframe thead th {\n",
              "        text-align: right;\n",
              "    }\n",
              "</style>\n",
              "<table border=\"1\" class=\"dataframe\">\n",
              "  <thead>\n",
              "    <tr style=\"text-align: right;\">\n",
              "      <th></th>\n",
              "      <th>Nombre</th>\n",
              "      <th>Edad</th>\n",
              "      <th>Peso</th>\n",
              "      <th>Altura</th>\n",
              "      <th>Genero</th>\n",
              "    </tr>\n",
              "  </thead>\n",
              "  <tbody>\n",
              "    <tr>\n",
              "      <th>0</th>\n",
              "      <td>Roberto Alfaro</td>\n",
              "      <td>19</td>\n",
              "      <td>70</td>\n",
              "      <td>1.78</td>\n",
              "      <td>Hombre</td>\n",
              "    </tr>\n",
              "    <tr>\n",
              "      <th>1</th>\n",
              "      <td>Laura Bustamante</td>\n",
              "      <td>19</td>\n",
              "      <td>57</td>\n",
              "      <td>1.60</td>\n",
              "      <td>Mujer</td>\n",
              "    </tr>\n",
              "    <tr>\n",
              "      <th>2</th>\n",
              "      <td>Erick Estrada</td>\n",
              "      <td>20</td>\n",
              "      <td>65</td>\n",
              "      <td>1.74</td>\n",
              "      <td>Hombre</td>\n",
              "    </tr>\n",
              "    <tr>\n",
              "      <th>3</th>\n",
              "      <td>Maria Domínguez</td>\n",
              "      <td>20</td>\n",
              "      <td>52</td>\n",
              "      <td>1.60</td>\n",
              "      <td>Mujer</td>\n",
              "    </tr>\n",
              "    <tr>\n",
              "      <th>4</th>\n",
              "      <td>Jorge  Ortíz</td>\n",
              "      <td>20</td>\n",
              "      <td>60</td>\n",
              "      <td>1.70</td>\n",
              "      <td>Hombre</td>\n",
              "    </tr>\n",
              "    <tr>\n",
              "      <th>5</th>\n",
              "      <td>Rosa Jiménez</td>\n",
              "      <td>21</td>\n",
              "      <td>56</td>\n",
              "      <td>1.53</td>\n",
              "      <td>Mujer</td>\n",
              "    </tr>\n",
              "    <tr>\n",
              "      <th>6</th>\n",
              "      <td>Adolfo Hernández</td>\n",
              "      <td>22</td>\n",
              "      <td>70</td>\n",
              "      <td>1.73</td>\n",
              "      <td>Hombre</td>\n",
              "    </tr>\n",
              "    <tr>\n",
              "      <th>7</th>\n",
              "      <td>Adriana García</td>\n",
              "      <td>23</td>\n",
              "      <td>72</td>\n",
              "      <td>1.71</td>\n",
              "      <td>Mujer</td>\n",
              "    </tr>\n",
              "    <tr>\n",
              "      <th>8</th>\n",
              "      <td>Antonio Martínez</td>\n",
              "      <td>21</td>\n",
              "      <td>60</td>\n",
              "      <td>1.66</td>\n",
              "      <td>Hombre</td>\n",
              "    </tr>\n",
              "    <tr>\n",
              "      <th>9</th>\n",
              "      <td>Alicia López</td>\n",
              "      <td>19</td>\n",
              "      <td>62</td>\n",
              "      <td>1.65</td>\n",
              "      <td>Mujer</td>\n",
              "    </tr>\n",
              "    <tr>\n",
              "      <th>10</th>\n",
              "      <td>Enrique González</td>\n",
              "      <td>23</td>\n",
              "      <td>65</td>\n",
              "      <td>1.68</td>\n",
              "      <td>Hombre</td>\n",
              "    </tr>\n",
              "    <tr>\n",
              "      <th>11</th>\n",
              "      <td>Elena Pérez</td>\n",
              "      <td>24</td>\n",
              "      <td>59</td>\n",
              "      <td>1.61</td>\n",
              "      <td>Mujer</td>\n",
              "    </tr>\n",
              "    <tr>\n",
              "      <th>12</th>\n",
              "      <td>Enrique Rodríguez</td>\n",
              "      <td>21</td>\n",
              "      <td>67</td>\n",
              "      <td>1.69</td>\n",
              "      <td>Hombre</td>\n",
              "    </tr>\n",
              "    <tr>\n",
              "      <th>13</th>\n",
              "      <td>Lily Ramírez</td>\n",
              "      <td>23</td>\n",
              "      <td>55</td>\n",
              "      <td>1.50</td>\n",
              "      <td>Mujer</td>\n",
              "    </tr>\n",
              "    <tr>\n",
              "      <th>14</th>\n",
              "      <td>Roxana Cruz</td>\n",
              "      <td>20</td>\n",
              "      <td>50</td>\n",
              "      <td>1.56</td>\n",
              "      <td>Mujer</td>\n",
              "    </tr>\n",
              "    <tr>\n",
              "      <th>15</th>\n",
              "      <td>Paulina Flores</td>\n",
              "      <td>21</td>\n",
              "      <td>66</td>\n",
              "      <td>1.78</td>\n",
              "      <td>Mujer</td>\n",
              "    </tr>\n",
              "    <tr>\n",
              "      <th>16</th>\n",
              "      <td>Samuel Gómez</td>\n",
              "      <td>21</td>\n",
              "      <td>67</td>\n",
              "      <td>1.71</td>\n",
              "      <td>Hombre</td>\n",
              "    </tr>\n",
              "    <tr>\n",
              "      <th>17</th>\n",
              "      <td>Francisco  Huerta</td>\n",
              "      <td>21</td>\n",
              "      <td>71</td>\n",
              "      <td>1.75</td>\n",
              "      <td>Hombre</td>\n",
              "    </tr>\n",
              "    <tr>\n",
              "      <th>18</th>\n",
              "      <td>Sergio Trujillo</td>\n",
              "      <td>19</td>\n",
              "      <td>73</td>\n",
              "      <td>1.78</td>\n",
              "      <td>Hombre</td>\n",
              "    </tr>\n",
              "    <tr>\n",
              "      <th>19</th>\n",
              "      <td>Sofia Padilla</td>\n",
              "      <td>18</td>\n",
              "      <td>69</td>\n",
              "      <td>1.70</td>\n",
              "      <td>Mujer</td>\n",
              "    </tr>\n",
              "    <tr>\n",
              "      <th>20</th>\n",
              "      <td>Tania Alvarado</td>\n",
              "      <td>24</td>\n",
              "      <td>70</td>\n",
              "      <td>1.70</td>\n",
              "      <td>Mujer</td>\n",
              "    </tr>\n",
              "    <tr>\n",
              "      <th>21</th>\n",
              "      <td>Uriel Galán</td>\n",
              "      <td>25</td>\n",
              "      <td>76</td>\n",
              "      <td>1.79</td>\n",
              "      <td>Hombre</td>\n",
              "    </tr>\n",
              "    <tr>\n",
              "      <th>22</th>\n",
              "      <td>Vanesa Díaz</td>\n",
              "      <td>25</td>\n",
              "      <td>63</td>\n",
              "      <td>1.63</td>\n",
              "      <td>Mujer</td>\n",
              "    </tr>\n",
              "    <tr>\n",
              "      <th>23</th>\n",
              "      <td>Violeta Durán</td>\n",
              "      <td>24</td>\n",
              "      <td>49</td>\n",
              "      <td>1.56</td>\n",
              "      <td>Mujer</td>\n",
              "    </tr>\n",
              "    <tr>\n",
              "      <th>24</th>\n",
              "      <td>Valentín Acosta</td>\n",
              "      <td>23</td>\n",
              "      <td>80</td>\n",
              "      <td>1.82</td>\n",
              "      <td>Hombre</td>\n",
              "    </tr>\n",
              "  </tbody>\n",
              "</table>\n",
              "</div>\n",
              "    <div class=\"colab-df-buttons\">\n",
              "\n",
              "  <div class=\"colab-df-container\">\n",
              "    <button class=\"colab-df-convert\" onclick=\"convertToInteractive('df-47c8b571-9441-40ec-bd86-41a23a8679ce')\"\n",
              "            title=\"Convert this dataframe to an interactive table.\"\n",
              "            style=\"display:none;\">\n",
              "\n",
              "  <svg xmlns=\"http://www.w3.org/2000/svg\" height=\"24px\" viewBox=\"0 -960 960 960\">\n",
              "    <path d=\"M120-120v-720h720v720H120Zm60-500h600v-160H180v160Zm220 220h160v-160H400v160Zm0 220h160v-160H400v160ZM180-400h160v-160H180v160Zm440 0h160v-160H620v160ZM180-180h160v-160H180v160Zm440 0h160v-160H620v160Z\"/>\n",
              "  </svg>\n",
              "    </button>\n",
              "\n",
              "  <style>\n",
              "    .colab-df-container {\n",
              "      display:flex;\n",
              "      gap: 12px;\n",
              "    }\n",
              "\n",
              "    .colab-df-convert {\n",
              "      background-color: #E8F0FE;\n",
              "      border: none;\n",
              "      border-radius: 50%;\n",
              "      cursor: pointer;\n",
              "      display: none;\n",
              "      fill: #1967D2;\n",
              "      height: 32px;\n",
              "      padding: 0 0 0 0;\n",
              "      width: 32px;\n",
              "    }\n",
              "\n",
              "    .colab-df-convert:hover {\n",
              "      background-color: #E2EBFA;\n",
              "      box-shadow: 0px 1px 2px rgba(60, 64, 67, 0.3), 0px 1px 3px 1px rgba(60, 64, 67, 0.15);\n",
              "      fill: #174EA6;\n",
              "    }\n",
              "\n",
              "    .colab-df-buttons div {\n",
              "      margin-bottom: 4px;\n",
              "    }\n",
              "\n",
              "    [theme=dark] .colab-df-convert {\n",
              "      background-color: #3B4455;\n",
              "      fill: #D2E3FC;\n",
              "    }\n",
              "\n",
              "    [theme=dark] .colab-df-convert:hover {\n",
              "      background-color: #434B5C;\n",
              "      box-shadow: 0px 1px 3px 1px rgba(0, 0, 0, 0.15);\n",
              "      filter: drop-shadow(0px 1px 2px rgba(0, 0, 0, 0.3));\n",
              "      fill: #FFFFFF;\n",
              "    }\n",
              "  </style>\n",
              "\n",
              "    <script>\n",
              "      const buttonEl =\n",
              "        document.querySelector('#df-47c8b571-9441-40ec-bd86-41a23a8679ce button.colab-df-convert');\n",
              "      buttonEl.style.display =\n",
              "        google.colab.kernel.accessAllowed ? 'block' : 'none';\n",
              "\n",
              "      async function convertToInteractive(key) {\n",
              "        const element = document.querySelector('#df-47c8b571-9441-40ec-bd86-41a23a8679ce');\n",
              "        const dataTable =\n",
              "          await google.colab.kernel.invokeFunction('convertToInteractive',\n",
              "                                                    [key], {});\n",
              "        if (!dataTable) return;\n",
              "\n",
              "        const docLinkHtml = 'Like what you see? Visit the ' +\n",
              "          '<a target=\"_blank\" href=https://colab.research.google.com/notebooks/data_table.ipynb>data table notebook</a>'\n",
              "          + ' to learn more about interactive tables.';\n",
              "        element.innerHTML = '';\n",
              "        dataTable['output_type'] = 'display_data';\n",
              "        await google.colab.output.renderOutput(dataTable, element);\n",
              "        const docLink = document.createElement('div');\n",
              "        docLink.innerHTML = docLinkHtml;\n",
              "        element.appendChild(docLink);\n",
              "      }\n",
              "    </script>\n",
              "  </div>\n",
              "\n",
              "\n",
              "<div id=\"df-7cf30737-b514-4b78-a92f-ee09fbd69948\">\n",
              "  <button class=\"colab-df-quickchart\" onclick=\"quickchart('df-7cf30737-b514-4b78-a92f-ee09fbd69948')\"\n",
              "            title=\"Suggest charts\"\n",
              "            style=\"display:none;\">\n",
              "\n",
              "<svg xmlns=\"http://www.w3.org/2000/svg\" height=\"24px\"viewBox=\"0 0 24 24\"\n",
              "     width=\"24px\">\n",
              "    <g>\n",
              "        <path d=\"M19 3H5c-1.1 0-2 .9-2 2v14c0 1.1.9 2 2 2h14c1.1 0 2-.9 2-2V5c0-1.1-.9-2-2-2zM9 17H7v-7h2v7zm4 0h-2V7h2v10zm4 0h-2v-4h2v4z\"/>\n",
              "    </g>\n",
              "</svg>\n",
              "  </button>\n",
              "\n",
              "<style>\n",
              "  .colab-df-quickchart {\n",
              "      --bg-color: #E8F0FE;\n",
              "      --fill-color: #1967D2;\n",
              "      --hover-bg-color: #E2EBFA;\n",
              "      --hover-fill-color: #174EA6;\n",
              "      --disabled-fill-color: #AAA;\n",
              "      --disabled-bg-color: #DDD;\n",
              "  }\n",
              "\n",
              "  [theme=dark] .colab-df-quickchart {\n",
              "      --bg-color: #3B4455;\n",
              "      --fill-color: #D2E3FC;\n",
              "      --hover-bg-color: #434B5C;\n",
              "      --hover-fill-color: #FFFFFF;\n",
              "      --disabled-bg-color: #3B4455;\n",
              "      --disabled-fill-color: #666;\n",
              "  }\n",
              "\n",
              "  .colab-df-quickchart {\n",
              "    background-color: var(--bg-color);\n",
              "    border: none;\n",
              "    border-radius: 50%;\n",
              "    cursor: pointer;\n",
              "    display: none;\n",
              "    fill: var(--fill-color);\n",
              "    height: 32px;\n",
              "    padding: 0;\n",
              "    width: 32px;\n",
              "  }\n",
              "\n",
              "  .colab-df-quickchart:hover {\n",
              "    background-color: var(--hover-bg-color);\n",
              "    box-shadow: 0 1px 2px rgba(60, 64, 67, 0.3), 0 1px 3px 1px rgba(60, 64, 67, 0.15);\n",
              "    fill: var(--button-hover-fill-color);\n",
              "  }\n",
              "\n",
              "  .colab-df-quickchart-complete:disabled,\n",
              "  .colab-df-quickchart-complete:disabled:hover {\n",
              "    background-color: var(--disabled-bg-color);\n",
              "    fill: var(--disabled-fill-color);\n",
              "    box-shadow: none;\n",
              "  }\n",
              "\n",
              "  .colab-df-spinner {\n",
              "    border: 2px solid var(--fill-color);\n",
              "    border-color: transparent;\n",
              "    border-bottom-color: var(--fill-color);\n",
              "    animation:\n",
              "      spin 1s steps(1) infinite;\n",
              "  }\n",
              "\n",
              "  @keyframes spin {\n",
              "    0% {\n",
              "      border-color: transparent;\n",
              "      border-bottom-color: var(--fill-color);\n",
              "      border-left-color: var(--fill-color);\n",
              "    }\n",
              "    20% {\n",
              "      border-color: transparent;\n",
              "      border-left-color: var(--fill-color);\n",
              "      border-top-color: var(--fill-color);\n",
              "    }\n",
              "    30% {\n",
              "      border-color: transparent;\n",
              "      border-left-color: var(--fill-color);\n",
              "      border-top-color: var(--fill-color);\n",
              "      border-right-color: var(--fill-color);\n",
              "    }\n",
              "    40% {\n",
              "      border-color: transparent;\n",
              "      border-right-color: var(--fill-color);\n",
              "      border-top-color: var(--fill-color);\n",
              "    }\n",
              "    60% {\n",
              "      border-color: transparent;\n",
              "      border-right-color: var(--fill-color);\n",
              "    }\n",
              "    80% {\n",
              "      border-color: transparent;\n",
              "      border-right-color: var(--fill-color);\n",
              "      border-bottom-color: var(--fill-color);\n",
              "    }\n",
              "    90% {\n",
              "      border-color: transparent;\n",
              "      border-bottom-color: var(--fill-color);\n",
              "    }\n",
              "  }\n",
              "</style>\n",
              "\n",
              "  <script>\n",
              "    async function quickchart(key) {\n",
              "      const quickchartButtonEl =\n",
              "        document.querySelector('#' + key + ' button');\n",
              "      quickchartButtonEl.disabled = true;  // To prevent multiple clicks.\n",
              "      quickchartButtonEl.classList.add('colab-df-spinner');\n",
              "      try {\n",
              "        const charts = await google.colab.kernel.invokeFunction(\n",
              "            'suggestCharts', [key], {});\n",
              "      } catch (error) {\n",
              "        console.error('Error during call to suggestCharts:', error);\n",
              "      }\n",
              "      quickchartButtonEl.classList.remove('colab-df-spinner');\n",
              "      quickchartButtonEl.classList.add('colab-df-quickchart-complete');\n",
              "    }\n",
              "    (() => {\n",
              "      let quickchartButtonEl =\n",
              "        document.querySelector('#df-7cf30737-b514-4b78-a92f-ee09fbd69948 button');\n",
              "      quickchartButtonEl.style.display =\n",
              "        google.colab.kernel.accessAllowed ? 'block' : 'none';\n",
              "    })();\n",
              "  </script>\n",
              "</div>\n",
              "    </div>\n",
              "  </div>\n"
            ],
            "text/plain": [
              "               Nombre  Edad  Peso  Altura  Genero\n",
              "0      Roberto Alfaro    19    70    1.78  Hombre\n",
              "1    Laura Bustamante    19    57    1.60   Mujer\n",
              "2       Erick Estrada    20    65    1.74  Hombre\n",
              "3     Maria Domínguez    20    52    1.60   Mujer\n",
              "4        Jorge  Ortíz    20    60    1.70  Hombre\n",
              "5        Rosa Jiménez    21    56    1.53   Mujer\n",
              "6    Adolfo Hernández    22    70    1.73  Hombre\n",
              "7      Adriana García    23    72    1.71   Mujer\n",
              "8    Antonio Martínez    21    60    1.66  Hombre\n",
              "9        Alicia López    19    62    1.65   Mujer\n",
              "10   Enrique González    23    65    1.68  Hombre\n",
              "11        Elena Pérez    24    59    1.61   Mujer\n",
              "12  Enrique Rodríguez    21    67    1.69  Hombre\n",
              "13       Lily Ramírez    23    55    1.50   Mujer\n",
              "14        Roxana Cruz    20    50    1.56   Mujer\n",
              "15     Paulina Flores    21    66    1.78   Mujer\n",
              "16       Samuel Gómez    21    67    1.71  Hombre\n",
              "17  Francisco  Huerta    21    71    1.75  Hombre\n",
              "18    Sergio Trujillo    19    73    1.78  Hombre\n",
              "19      Sofia Padilla    18    69    1.70   Mujer\n",
              "20     Tania Alvarado    24    70    1.70   Mujer\n",
              "21        Uriel Galán    25    76    1.79  Hombre\n",
              "22        Vanesa Díaz    25    63    1.63   Mujer\n",
              "23      Violeta Durán    24    49    1.56   Mujer\n",
              "24    Valentín Acosta    23    80    1.82  Hombre"
            ]
          },
          "execution_count": 116,
          "metadata": {},
          "output_type": "execute_result"
        }
      ],
      "source": [
        "df"
      ]
    },
    {
      "cell_type": "markdown",
      "metadata": {
        "id": "4F9PZz8wlHvz"
      },
      "source": [
        "# Diccionarios"
      ]
    },
    {
      "cell_type": "markdown",
      "metadata": {
        "id": "omdKN4TwlQvh"
      },
      "source": [
        "### Crear un diccionario\n"
      ]
    },
    {
      "cell_type": "code",
      "execution_count": null,
      "metadata": {
        "colab": {
          "base_uri": "https://localhost:8080/"
        },
        "id": "3Tb9vdRSlV4o",
        "outputId": "67ed96bf-deb6-4313-87e1-d0522453539a"
      },
      "outputs": [
        {
          "name": "stdout",
          "output_type": "stream",
          "text": [
            "{}\n"
          ]
        }
      ],
      "source": [
        "# Crear un diccionario vacío\n",
        "diccionario_vacio = {}\n",
        "print(diccionario_vacio)\n"
      ]
    },
    {
      "cell_type": "code",
      "execution_count": null,
      "metadata": {
        "colab": {
          "base_uri": "https://localhost:8080/"
        },
        "id": "HxxidmsLR63J",
        "outputId": "c413fd07-0110-4e29-bcfc-b3a690a4ed14"
      },
      "outputs": [
        {
          "name": "stdout",
          "output_type": "stream",
          "text": [
            "{'nombre': 'Juan', 'edad': 30, 'altura': '1.80'}\n"
          ]
        }
      ],
      "source": [
        "# Crear un diccinario con elementos\n",
        "diccionario_con_elementos = {'nombre': 'Juan','edad': 30,'altura': '1.80'}\n",
        "print(diccionario_con_elementos)\n"
      ]
    },
    {
      "cell_type": "markdown",
      "metadata": {
        "id": "JTyPcSxgdnah"
      },
      "source": [
        "### Acceder a valores de un diccionario"
      ]
    },
    {
      "cell_type": "code",
      "execution_count": null,
      "metadata": {
        "colab": {
          "base_uri": "https://localhost:8080/"
        },
        "id": "3sdwXCholUEE",
        "outputId": "a39a0de5-f6ab-4187-84e2-e9c76be877b9"
      },
      "outputs": [
        {
          "name": "stdout",
          "output_type": "stream",
          "text": [
            "Nombre: Juan, Edad: 30, Altura: 1.8\n"
          ]
        }
      ],
      "source": [
        "# Acceder a valores en el diccionario\n",
        "diccionario = {'nombre': 'Juan', 'edad':30, 'altura':1.80}\n",
        "nombre = diccionario['nombre']\n",
        "edad = diccionario['edad']\n",
        "altura = diccionario['altura']\n",
        "print(f'Nombre: {nombre}, Edad: {edad}, Altura: {altura}')\n"
      ]
    },
    {
      "cell_type": "code",
      "execution_count": null,
      "metadata": {
        "colab": {
          "base_uri": "https://localhost:8080/",
          "height": 213
        },
        "id": "ttiF9l7kUFdu",
        "outputId": "48212b40-4c5a-4de3-bc86-33d71b090d1b"
      },
      "outputs": [
        {
          "ename": "KeyError",
          "evalue": "'peso'",
          "output_type": "error",
          "traceback": [
            "\u001b[0;31m---------------------------------------------------------------------------\u001b[0m",
            "\u001b[0;31mKeyError\u001b[0m                                  Traceback (most recent call last)",
            "\u001b[0;32m<ipython-input-33-7f93466bf533>\u001b[0m in \u001b[0;36m<cell line: 3>\u001b[0;34m()\u001b[0m\n\u001b[1;32m      1\u001b[0m \u001b[0;31m# Accedo al valor de una clave que no existe (da error)\u001b[0m\u001b[0;34m\u001b[0m\u001b[0;34m\u001b[0m\u001b[0m\n\u001b[1;32m      2\u001b[0m \u001b[0mdiccionario\u001b[0m \u001b[0;34m=\u001b[0m \u001b[0;34m{\u001b[0m\u001b[0;34m'nombre'\u001b[0m\u001b[0;34m:\u001b[0m \u001b[0;34m'Juan'\u001b[0m\u001b[0;34m,\u001b[0m \u001b[0;34m'edad'\u001b[0m\u001b[0;34m:\u001b[0m\u001b[0;36m30\u001b[0m\u001b[0;34m,\u001b[0m \u001b[0;34m'altura'\u001b[0m\u001b[0;34m:\u001b[0m\u001b[0;36m1.80\u001b[0m\u001b[0;34m}\u001b[0m\u001b[0;34m\u001b[0m\u001b[0;34m\u001b[0m\u001b[0m\n\u001b[0;32m----> 3\u001b[0;31m \u001b[0mpeso\u001b[0m\u001b[0;34m=\u001b[0m \u001b[0mdiccionario\u001b[0m\u001b[0;34m[\u001b[0m\u001b[0;34m'peso'\u001b[0m\u001b[0;34m]\u001b[0m\u001b[0;34m\u001b[0m\u001b[0;34m\u001b[0m\u001b[0m\n\u001b[0m\u001b[1;32m      4\u001b[0m \u001b[0mprint\u001b[0m\u001b[0;34m(\u001b[0m\u001b[0;34mf'Peso: {peso}'\u001b[0m\u001b[0;34m)\u001b[0m\u001b[0;34m\u001b[0m\u001b[0;34m\u001b[0m\u001b[0m\n",
            "\u001b[0;31mKeyError\u001b[0m: 'peso'"
          ]
        }
      ],
      "source": [
        "# Accedo al valor de una clave que no existe (da error)\n",
        "diccionario = {'nombre': 'Juan', 'edad':30, 'altura':1.80}\n",
        "peso= diccionario['peso']\n",
        "print(f'Peso: {peso}')\n"
      ]
    },
    {
      "cell_type": "code",
      "execution_count": null,
      "metadata": {
        "colab": {
          "base_uri": "https://localhost:8080/"
        },
        "id": "q3VQqiHLUg-Z",
        "outputId": "ef587f12-ce99-4746-ddc5-65c4d6708022"
      },
      "outputs": [
        {
          "name": "stdout",
          "output_type": "stream",
          "text": [
            "None\n"
          ]
        }
      ],
      "source": [
        "# Acceder al valor de una clave que no existe con get()\n",
        "diccionario = {'nombre': 'Juan', 'edad':30, 'altura':1.80}\n",
        "peso = diccionario.get('peso')\n",
        "print(peso)"
      ]
    },
    {
      "cell_type": "code",
      "execution_count": null,
      "metadata": {
        "colab": {
          "base_uri": "https://localhost:8080/"
        },
        "id": "pwietjf0VNCW",
        "outputId": "9f9cf450-3f17-4998-afe3-17c8c5cc583e"
      },
      "outputs": [
        {
          "name": "stdout",
          "output_type": "stream",
          "text": [
            "75\n",
            "{'nombre': 'Juan', 'edad': 30, 'altura': 1.8}\n"
          ]
        }
      ],
      "source": [
        "# Se proporciona un valor para el método get() para que se devuelva si no se encuentra en el diccionario\n",
        "diccionario = {'nombre': 'Juan', 'edad':30, 'altura':1.80}\n",
        "peso = diccionario.get('peso',75)\n",
        "print(peso)\n",
        "print(diccionario)"
      ]
    },
    {
      "cell_type": "markdown",
      "metadata": {
        "id": "L6d-uFbRd2NO"
      },
      "source": [
        "### Modificar valores en un diccionario"
      ]
    },
    {
      "cell_type": "code",
      "execution_count": null,
      "metadata": {
        "colab": {
          "base_uri": "https://localhost:8080/"
        },
        "id": "_mSv7BQllcmI",
        "outputId": "52f25e5a-024e-4757-b878-0bcf761e2d77"
      },
      "outputs": [
        {
          "name": "stdout",
          "output_type": "stream",
          "text": [
            "{'nombre': 'Juan', 'edad': 31, 'altura': 1.8}\n"
          ]
        }
      ],
      "source": [
        "# Modificar valores en el diccionario\n",
        "diccionario = {'nombre': 'Juan', 'edad':30, 'altura':1.80}\n",
        "diccionario['edad'] = 31\n",
        "print(diccionario)\n"
      ]
    },
    {
      "cell_type": "markdown",
      "metadata": {
        "id": "ICiqjzkXd8Q_"
      },
      "source": [
        "### Añadir nuevo par clave-valor"
      ]
    },
    {
      "cell_type": "code",
      "execution_count": null,
      "metadata": {
        "id": "ZvPYGXzKld1u"
      },
      "outputs": [],
      "source": [
        "# Añadir un nuevo par clave-valor\n",
        "diccionario = {'nombre': 'Juan', 'edad':30, 'altura':1.80}\n",
        "diccionario['peso'] = 80\n",
        "print(diccionario)\n"
      ]
    },
    {
      "cell_type": "markdown",
      "metadata": {
        "id": "tXRKaHJceAhR"
      },
      "source": [
        "### Eliminar un par clave-valor"
      ]
    },
    {
      "cell_type": "code",
      "execution_count": null,
      "metadata": {
        "id": "JgQ74bVplfnM"
      },
      "outputs": [],
      "source": [
        "# Eliminar un par clave-valor\n",
        "diccionario = {'nombre': 'Juan', 'edad':30, 'altura':1.80, 'peso': 80}\n",
        "del diccionario['peso']\n",
        "print(diccionario)\n"
      ]
    },
    {
      "cell_type": "code",
      "execution_count": null,
      "metadata": {
        "id": "HYCmL3-yWLGo"
      },
      "outputs": [],
      "source": [
        "# Intento de eliminar con del un par cuya clave no existe (da error)\n",
        "diccionario = {'nombre': 'Juan', 'edad':30, 'altura':1.80}\n",
        "del diccionario ['ciudad']\n",
        "print(diccionario)\n"
      ]
    },
    {
      "cell_type": "code",
      "execution_count": null,
      "metadata": {
        "colab": {
          "base_uri": "https://localhost:8080/"
        },
        "id": "_3m91MszW301",
        "outputId": "c4429271-89a8-4218-c4b6-58762bbe89ed"
      },
      "outputs": [
        {
          "name": "stdout",
          "output_type": "stream",
          "text": [
            "{'nombre': 'Juan', 'edad': 30}\n",
            "1.8\n"
          ]
        }
      ],
      "source": [
        "# Eliminar par usando método pop() con elemento que existe\n",
        "diccionario = {'nombre': 'Juan', 'edad':30, 'altura':1.80}\n",
        "altura = diccionario.pop('altura')\n",
        "print(diccionario)\n",
        "print(altura)"
      ]
    },
    {
      "cell_type": "code",
      "execution_count": null,
      "metadata": {
        "colab": {
          "base_uri": "https://localhost:8080/"
        },
        "id": "W6nGcJJvXoA-",
        "outputId": "273f480b-9c44-4953-f187-c56705cb56a8"
      },
      "outputs": [
        {
          "name": "stdout",
          "output_type": "stream",
          "text": [
            "{'nombre': 'Juan', 'edad': 30, 'altura': 1.8}\n",
            "None\n"
          ]
        }
      ],
      "source": [
        "# Eliminar par usando método pop() con elemento que no existe\n",
        "diccionario = {'nombre': 'Juan', 'edad':30, 'altura':1.80}\n",
        "ciudad = diccionario.pop('ciudad', None)\n",
        "print(diccionario)\n",
        "print(ciudad)"
      ]
    },
    {
      "cell_type": "code",
      "execution_count": null,
      "metadata": {
        "id": "YYdKxs8ZxB2b"
      },
      "outputs": [],
      "source": [
        "# Eliminar el último par del diccionario usando el método popitem()\n",
        "diccionario = {'nombre': 'Juan', 'edad':30, 'altura':1.80}\n",
        "diccionario.popitem()\n",
        "print(diccionario)"
      ]
    },
    {
      "cell_type": "markdown",
      "metadata": {
        "id": "rKDL5ewSrUJH"
      },
      "source": [
        "### Borrar un diccionario"
      ]
    },
    {
      "cell_type": "code",
      "execution_count": null,
      "metadata": {
        "colab": {
          "base_uri": "https://localhost:8080/",
          "height": 213
        },
        "id": "WHxLQGNBrXOU",
        "outputId": "ba48e24d-fc3b-41e6-e0b9-fc2b0800972d"
      },
      "outputs": [
        {
          "ename": "NameError",
          "evalue": "name 'diccionario' is not defined",
          "output_type": "error",
          "traceback": [
            "\u001b[0;31m---------------------------------------------------------------------------\u001b[0m",
            "\u001b[0;31mNameError\u001b[0m                                 Traceback (most recent call last)",
            "\u001b[0;32m<ipython-input-13-57ab55bbf640>\u001b[0m in \u001b[0;36m<cell line: 4>\u001b[0;34m()\u001b[0m\n\u001b[1;32m      2\u001b[0m \u001b[0mdiccionario\u001b[0m \u001b[0;34m=\u001b[0m \u001b[0;34m{\u001b[0m\u001b[0;34m'nombre'\u001b[0m\u001b[0;34m:\u001b[0m \u001b[0;34m'Juan'\u001b[0m\u001b[0;34m,\u001b[0m \u001b[0;34m'edad'\u001b[0m\u001b[0;34m:\u001b[0m\u001b[0;36m30\u001b[0m\u001b[0;34m,\u001b[0m \u001b[0;34m'altura'\u001b[0m\u001b[0;34m:\u001b[0m\u001b[0;36m1.80\u001b[0m\u001b[0;34m}\u001b[0m\u001b[0;34m\u001b[0m\u001b[0;34m\u001b[0m\u001b[0m\n\u001b[1;32m      3\u001b[0m \u001b[0;32mdel\u001b[0m \u001b[0mdiccionario\u001b[0m\u001b[0;34m\u001b[0m\u001b[0;34m\u001b[0m\u001b[0m\n\u001b[0;32m----> 4\u001b[0;31m \u001b[0mprint\u001b[0m\u001b[0;34m(\u001b[0m\u001b[0mdiccionario\u001b[0m\u001b[0;34m)\u001b[0m\u001b[0;34m\u001b[0m\u001b[0;34m\u001b[0m\u001b[0m\n\u001b[0m\u001b[1;32m      5\u001b[0m \u001b[0;34m\u001b[0m\u001b[0m\n",
            "\u001b[0;31mNameError\u001b[0m: name 'diccionario' is not defined"
          ]
        }
      ],
      "source": [
        "# Borrar completamente un diccionario (no se puede imprimir porque el diccionario ya no existe)\n",
        "diccionario = {'nombre': 'Juan', 'edad':30, 'altura':1.80}\n",
        "del diccionario\n",
        "print(diccionario)\n",
        "\n"
      ]
    },
    {
      "cell_type": "code",
      "execution_count": null,
      "metadata": {
        "colab": {
          "base_uri": "https://localhost:8080/"
        },
        "id": "OhfutwH8rtfA",
        "outputId": "a722aed6-301a-4642-a916-1a371b43c117"
      },
      "outputs": [
        {
          "name": "stdout",
          "output_type": "stream",
          "text": [
            "{}\n"
          ]
        }
      ],
      "source": [
        "# Borrar todos los elementos del diccionario sin eliminar el diccionario\n",
        "diccionario = {'nombre': 'Juan', 'edad':30, 'altura':1.80}\n",
        "diccionario.clear()\n",
        "print(diccionario)"
      ]
    },
    {
      "cell_type": "markdown",
      "metadata": {
        "id": "TihXshQLeF97"
      },
      "source": [
        "### Tamaño de un diccionario"
      ]
    },
    {
      "cell_type": "code",
      "execution_count": null,
      "metadata": {
        "colab": {
          "base_uri": "https://localhost:8080/"
        },
        "id": "dnQZzHHZYZ09",
        "outputId": "67f19def-1513-4095-c89d-afd149ee9b6a"
      },
      "outputs": [
        {
          "name": "stdout",
          "output_type": "stream",
          "text": [
            "3\n"
          ]
        }
      ],
      "source": [
        "# Tamaño del diccionario (número de pares)\n",
        "diccionario = {'nombre': 'Juan', 'edad':30, 'altura':1.80}\n",
        "num_elementos = len(diccionario)\n",
        "print(num_elementos)"
      ]
    },
    {
      "cell_type": "markdown",
      "metadata": {
        "id": "xaPKRCq7eK2-"
      },
      "source": [
        "### Comprobar si una clave está en el diccionario"
      ]
    },
    {
      "cell_type": "code",
      "execution_count": null,
      "metadata": {
        "id": "KN0-2oMTYsG_"
      },
      "outputs": [],
      "source": [
        "# Comprobar si una clave está en el diccionario\n",
        "diccionario = {'nombre': 'Juan', 'edad':30, 'altura':1.80}\n",
        "resultado1 = 'nombre' in diccionario\n",
        "resultado2 = 'ciudad' in diccionario\n",
        "print(f'Resutado1: {resultado1}, Resultado2: {resultado2}')"
      ]
    },
    {
      "cell_type": "markdown",
      "metadata": {
        "id": "zssDjLw8yA0G"
      },
      "source": [
        "### Ver claves / valores / elementos\n"
      ]
    },
    {
      "cell_type": "code",
      "execution_count": null,
      "metadata": {
        "colab": {
          "base_uri": "https://localhost:8080/"
        },
        "id": "8RDnZigRyEQP",
        "outputId": "7e6043b9-cb69-4ec6-b51c-30872b03f92d"
      },
      "outputs": [
        {
          "name": "stdout",
          "output_type": "stream",
          "text": [
            "dict_keys(['nombre', 'edad', 'altura'])\n",
            "dict_values(['Juan', 30, 1.8])\n",
            "dict_items([('nombre', 'Juan'), ('edad', 30), ('altura', 1.8)])\n"
          ]
        }
      ],
      "source": [
        "# Ver claves / valores / elementos\n",
        "# se devuelven dict_keys es una vista, que se comporta como un conjunto\n",
        "diccionario = {'nombre': 'Juan', 'edad':30, 'altura':1.80}\n",
        "#ver claves\n",
        "print(diccionario.keys())\n",
        "#ver valores\n",
        "print(diccionario.values())\n",
        "#ver elementos\n",
        "print(diccionario.items())\n",
        "\n"
      ]
    },
    {
      "cell_type": "markdown",
      "metadata": {
        "id": "0gQ6xjXieP2K"
      },
      "source": [
        "### Iterar sobre un diccionario (varios casos)"
      ]
    },
    {
      "cell_type": "code",
      "execution_count": null,
      "metadata": {
        "colab": {
          "base_uri": "https://localhost:8080/"
        },
        "id": "RQHvdaLEZQGR",
        "outputId": "0ae25ecd-ddd0-4fdd-8f90-7ae4435d86b3"
      },
      "outputs": [
        {
          "name": "stdout",
          "output_type": "stream",
          "text": [
            "nombre\n",
            "edad\n",
            "altura\n"
          ]
        }
      ],
      "source": [
        "# Iterar sobre un diccionario: Iterar sobre las claves\n",
        "diccionario = {'nombre': 'Juan', 'edad':30, 'altura':1.80}\n",
        "for clave in diccionario.keys():\n",
        "  print(clave)"
      ]
    },
    {
      "cell_type": "code",
      "execution_count": null,
      "metadata": {
        "colab": {
          "base_uri": "https://localhost:8080/"
        },
        "id": "3lq42PTDZfeq",
        "outputId": "6708b301-87c9-4d8a-e540-dff6b769a695"
      },
      "outputs": [
        {
          "name": "stdout",
          "output_type": "stream",
          "text": [
            "Juan\n",
            "30\n",
            "1.8\n"
          ]
        }
      ],
      "source": [
        "# Iterar sobre un diccionario: Iterar sobre los valores\n",
        "diccionario = {'nombre': 'Juan', 'edad':30, 'altura':1.80}\n",
        "for valor in diccionario.values():\n",
        "  print(valor)"
      ]
    },
    {
      "cell_type": "code",
      "execution_count": null,
      "metadata": {
        "colab": {
          "base_uri": "https://localhost:8080/"
        },
        "id": "hH2UPRKBZt7W",
        "outputId": "6c39add6-daf6-4e73-8cdf-85e105b99d4d"
      },
      "outputs": [
        {
          "name": "stdout",
          "output_type": "stream",
          "text": [
            "('nombre', 'Juan')\n",
            "('edad', 30)\n",
            "('altura', 1.8)\n"
          ]
        }
      ],
      "source": [
        "# Iterar sobre un diccionario: Iterar sobre pares\n",
        "diccionario = {'nombre': 'Juan', 'edad':30, 'altura':1.80}\n",
        "for clave_valor in diccionario.items():\n",
        "  print(clave_valor)"
      ]
    },
    {
      "cell_type": "code",
      "execution_count": null,
      "metadata": {
        "colab": {
          "base_uri": "https://localhost:8080/"
        },
        "id": "Bzt99Y43aLTB",
        "outputId": "b5fb0099-43ed-4607-860e-a4dc9441c5bf"
      },
      "outputs": [
        {
          "name": "stdout",
          "output_type": "stream",
          "text": [
            "nombre\n",
            "edad\n",
            "altura\n"
          ]
        }
      ],
      "source": [
        "# Iterar sobre un diccionario sin método: (por defecto itera por clave)\n",
        "diccionario = {'nombre': 'Juan', 'edad':30, 'altura':1.80}\n",
        "for por_defecto in diccionario:\n",
        "  print(por_defecto)"
      ]
    },
    {
      "cell_type": "markdown",
      "metadata": {
        "id": "yf2i_S8sXoh8"
      },
      "source": [
        "### Listas de claves, valores, elementos en orden de creación"
      ]
    },
    {
      "cell_type": "code",
      "execution_count": null,
      "metadata": {
        "colab": {
          "base_uri": "https://localhost:8080/"
        },
        "id": "TfvMzhx2yO1H",
        "outputId": "e1f5830f-6046-443a-d911-af67883e3bd0"
      },
      "outputs": [
        {
          "name": "stdout",
          "output_type": "stream",
          "text": [
            "['nombre', 'edad', 'altura']\n",
            "['Juan', 20, 1.7]\n",
            "[('nombre', 'Juan'), ('edad', 20), ('altura', 1.7)]\n"
          ]
        },
        {
          "data": {
            "text/plain": [
              "list"
            ]
          },
          "execution_count": 30,
          "metadata": {},
          "output_type": "execute_result"
        }
      ],
      "source": [
        "# Listar en orden de creación (devuelve listas)\n",
        "diccionario = {'nombre': 'Juan', 'edad':20, 'altura':1.70}\n",
        "lista_claves = list(diccionario.keys())\n",
        "lista_valores= list(diccionario.values())\n",
        "lista_elementos= list(diccionario.items())\n",
        "print(lista_claves)\n",
        "print(lista_valores)\n",
        "print(lista_elementos)\n",
        "type(lista_elementos)"
      ]
    },
    {
      "cell_type": "markdown",
      "metadata": {
        "id": "bKhctry3ZLKp"
      },
      "source": [
        "### Listas ordenadas de claves, valores, elementos"
      ]
    },
    {
      "cell_type": "code",
      "execution_count": null,
      "metadata": {
        "colab": {
          "base_uri": "https://localhost:8080/",
          "height": 231
        },
        "id": "2jfpNJ7PYiqS",
        "outputId": "ce191451-41b4-47f6-c4e1-81ce86936d24"
      },
      "outputs": [
        {
          "ename": "TypeError",
          "evalue": "'<' not supported between instances of 'int' and 'str'",
          "output_type": "error",
          "traceback": [
            "\u001b[0;31m---------------------------------------------------------------------------\u001b[0m",
            "\u001b[0;31mTypeError\u001b[0m                                 Traceback (most recent call last)",
            "\u001b[0;32m<ipython-input-29-0bb4963b7e48>\u001b[0m in \u001b[0;36m<cell line: 5>\u001b[0;34m()\u001b[0m\n\u001b[1;32m      3\u001b[0m \u001b[0mdiccionario\u001b[0m \u001b[0;34m=\u001b[0m \u001b[0;34m{\u001b[0m\u001b[0;34m'nombre'\u001b[0m\u001b[0;34m:\u001b[0m \u001b[0;34m'Juan'\u001b[0m\u001b[0;34m,\u001b[0m \u001b[0;34m'edad'\u001b[0m\u001b[0;34m:\u001b[0m\u001b[0;36m20\u001b[0m\u001b[0;34m,\u001b[0m \u001b[0;34m'altura'\u001b[0m\u001b[0;34m:\u001b[0m\u001b[0;36m1.70\u001b[0m\u001b[0;34m}\u001b[0m\u001b[0;34m\u001b[0m\u001b[0;34m\u001b[0m\u001b[0m\n\u001b[1;32m      4\u001b[0m \u001b[0mlista_claves\u001b[0m \u001b[0;34m=\u001b[0m \u001b[0msorted\u001b[0m\u001b[0;34m(\u001b[0m\u001b[0mdiccionario\u001b[0m\u001b[0;34m.\u001b[0m\u001b[0mkeys\u001b[0m\u001b[0;34m(\u001b[0m\u001b[0;34m)\u001b[0m\u001b[0;34m)\u001b[0m\u001b[0;34m\u001b[0m\u001b[0;34m\u001b[0m\u001b[0m\n\u001b[0;32m----> 5\u001b[0;31m \u001b[0mlista_valores\u001b[0m\u001b[0;34m=\u001b[0m \u001b[0msorted\u001b[0m\u001b[0;34m(\u001b[0m\u001b[0mdiccionario\u001b[0m\u001b[0;34m.\u001b[0m\u001b[0mvalues\u001b[0m\u001b[0;34m(\u001b[0m\u001b[0;34m)\u001b[0m\u001b[0;34m)\u001b[0m\u001b[0;34m\u001b[0m\u001b[0;34m\u001b[0m\u001b[0m\n\u001b[0m\u001b[1;32m      6\u001b[0m \u001b[0mlista_elementos\u001b[0m\u001b[0;34m=\u001b[0m \u001b[0msorted\u001b[0m\u001b[0;34m(\u001b[0m\u001b[0mdiccionario\u001b[0m\u001b[0;34m.\u001b[0m\u001b[0mitems\u001b[0m\u001b[0;34m(\u001b[0m\u001b[0;34m)\u001b[0m\u001b[0;34m)\u001b[0m\u001b[0;34m\u001b[0m\u001b[0;34m\u001b[0m\u001b[0m\n\u001b[1;32m      7\u001b[0m \u001b[0mprint\u001b[0m\u001b[0;34m(\u001b[0m\u001b[0mlista_claves\u001b[0m\u001b[0;34m)\u001b[0m\u001b[0;34m\u001b[0m\u001b[0;34m\u001b[0m\u001b[0m\n",
            "\u001b[0;31mTypeError\u001b[0m: '<' not supported between instances of 'int' and 'str'"
          ]
        }
      ],
      "source": [
        "# Listar de forma ordenada (devuelve listas)\n",
        "# OJO se mezclan tipos de datos, da error\n",
        "diccionario = {'nombre': 'Juan', 'edad':20, 'altura':1.70}\n",
        "lista_claves = sorted(diccionario.keys())\n",
        "lista_valores= sorted(diccionario.values())\n",
        "lista_elementos= sorted(diccionario.items())\n",
        "print(lista_claves)\n",
        "print(lista_valores)\n",
        "print(lista_elementos)\n"
      ]
    },
    {
      "cell_type": "markdown",
      "metadata": {
        "id": "2JX517a2edbB"
      },
      "source": [
        "### Creación de conjuntos a partir de diccionarios **set()**"
      ]
    },
    {
      "cell_type": "code",
      "execution_count": null,
      "metadata": {
        "colab": {
          "base_uri": "https://localhost:8080/"
        },
        "id": "kAZPcSgbeb_c",
        "outputId": "96f5270c-dca4-4b6c-dbc5-d6c7acb8d22a"
      },
      "outputs": [
        {
          "name": "stdout",
          "output_type": "stream",
          "text": [
            "{'nombre', 'edad', 'altura'}\n",
            "{1.7, 'Juan', 20}\n",
            "{('edad', 20), ('nombre', 'Juan'), ('altura', 1.7)}\n"
          ]
        },
        {
          "data": {
            "text/plain": [
              "set"
            ]
          },
          "execution_count": 31,
          "metadata": {},
          "output_type": "execute_result"
        }
      ],
      "source": [
        "# Creación de conjuntos a partir de diccionarios\n",
        "diccionario = {'nombre': 'Juan', 'edad':20, 'altura':1.70}\n",
        "conjunto_claves = set(diccionario.keys())\n",
        "conjunto_valores= set(diccionario.values())\n",
        "conjunto_elementos= set(diccionario.items())\n",
        "print(conjunto_claves)\n",
        "print(conjunto_valores)\n",
        "print(conjunto_elementos)\n",
        "type(conjunto_elementos)"
      ]
    },
    {
      "cell_type": "markdown",
      "metadata": {
        "id": "1JI08c8YeWYW"
      },
      "source": [
        "### Copiar un diccionario"
      ]
    },
    {
      "cell_type": "code",
      "execution_count": null,
      "metadata": {
        "colab": {
          "base_uri": "https://localhost:8080/"
        },
        "id": "GT_WdsFSaks9",
        "outputId": "a34ab0f4-1383-4fda-ba3e-07aca99d29be"
      },
      "outputs": [
        {
          "name": "stdout",
          "output_type": "stream",
          "text": [
            "{'nombre': 'Juan', 'edad': 30, 'altura': 1.8}\n"
          ]
        }
      ],
      "source": [
        "# Copiar un diccionario\n",
        "diccionario_original = {'nombre': 'Juan', 'edad':30, 'altura':1.80}\n",
        "diccionario_copia = diccionario_original.copy()\n",
        "print(diccionario_copia)"
      ]
    },
    {
      "cell_type": "code",
      "execution_count": null,
      "metadata": {
        "colab": {
          "base_uri": "https://localhost:8080/"
        },
        "id": "ALUwHVHkt_3t",
        "outputId": "491a2916-bf45-49f4-db12-894a96aa5d77"
      },
      "outputs": [
        {
          "name": "stdout",
          "output_type": "stream",
          "text": [
            "{'nombre': 'Juan', 'edad': 30, 'altura': 1.8}\n"
          ]
        }
      ],
      "source": [
        "# Copiar un diccionario con el constructor dict()\n",
        "diccionario_original = {'nombre': 'Juan', 'edad':30, 'altura':1.80}\n",
        "diccionario_copia2 = dict(diccionario_original)\n",
        "print(diccionario_copia2)"
      ]
    },
    {
      "cell_type": "markdown",
      "metadata": {
        "id": "s0x8caf3ebVF"
      },
      "source": [
        "### Combinar diccionarios"
      ]
    },
    {
      "cell_type": "code",
      "execution_count": null,
      "metadata": {
        "colab": {
          "base_uri": "https://localhost:8080/"
        },
        "id": "TpD_CsuYbEt-",
        "outputId": "5b9e6301-dc70-499f-cc76-dd563cd1aa6f"
      },
      "outputs": [
        {
          "name": "stdout",
          "output_type": "stream",
          "text": [
            "{'nombre': 'Juan', 'edad': 31, 'altura': 1.8, 'ciudad': 'Madrid'}\n"
          ]
        }
      ],
      "source": [
        "# Combinar diccionarios\n",
        "diccionario1 = {'nombre': 'Juan', 'edad':30, 'altura':1.80}\n",
        "diccionario2 = {'edad': 31, 'ciudad': 'Madrid'}\n",
        "diccionario1.update(diccionario2)\n",
        "print(diccionario1)"
      ]
    },
    {
      "cell_type": "markdown",
      "metadata": {
        "id": "9L_yi3maOf-b"
      },
      "source": [
        "### Diccionarios anidados"
      ]
    },
    {
      "cell_type": "code",
      "execution_count": null,
      "metadata": {
        "id": "l1mnCxiFOjEy"
      },
      "outputs": [],
      "source": [
        "# Diccionarios anidados: diccionarios cuyos valores son otros diccionarios\n",
        "empleados = {\n",
        "    'empleado1':{'nombre':'agapito', 'puesto': 'contable'},\n",
        "    'empleado2':{'nombre':'susana', 'puesto': 'directora'},\n",
        "    'empleado3':{'nombre':'leo', 'puesto': 'analista'},\n",
        "    }\n",
        "print(empleados)"
      ]
    },
    {
      "cell_type": "code",
      "execution_count": null,
      "metadata": {
        "colab": {
          "base_uri": "https://localhost:8080/"
        },
        "id": "K8zLYUoCbYLv",
        "outputId": "ca315408-cbfd-4b23-f7fb-429a19fdf984"
      },
      "outputs": [
        {
          "name": "stdout",
          "output_type": "stream",
          "text": [
            "{'casa1': {'provincia': 'madrid', 'metros': 100}, 'casa2': {'provincia': 'segovia', 'metros': 150}, 'casa3': {'provincia': 'zamora', 'metros': 200}}\n"
          ]
        }
      ],
      "source": [
        "# Diccionarios anidados: se agrupan varidos diccionarios creados previamente\n",
        "casa1 = {'provincia':'madrid', 'metros': 100}\n",
        "casa2 = {'provincia':'segovia', 'metros': 150}\n",
        "casa3 = {'provincia':'zamora', 'metros': 200}\n",
        "propiedades = {'casa1':casa1, 'casa2': casa2, 'casa3':casa3}\n",
        "print(propiedades)"
      ]
    },
    {
      "cell_type": "markdown",
      "metadata": {
        "id": "vgiEUMh7lkD4"
      },
      "source": [
        "# Operaciones Básicas con Sets"
      ]
    },
    {
      "cell_type": "markdown",
      "metadata": {
        "id": "QfUX2o05HfPU"
      },
      "source": [
        "### CREACION DE UN CONJUNTO"
      ]
    },
    {
      "cell_type": "code",
      "execution_count": null,
      "metadata": {
        "colab": {
          "base_uri": "https://localhost:8080/"
        },
        "id": "hZaLD0ZClrhB",
        "outputId": "3f19fbb5-6fd2-4d50-fdd8-fa1658a8c919"
      },
      "outputs": [
        {
          "name": "stdout",
          "output_type": "stream",
          "text": [
            "{1, 2, 3, 4, 5}\n"
          ]
        }
      ],
      "source": [
        "# Crear un conjunto\n",
        "conjunto = {1, 2, 3, 4, 5}\n",
        "print(conjunto)\n"
      ]
    },
    {
      "cell_type": "markdown",
      "metadata": {
        "id": "GhZyw30lIF3b"
      },
      "source": [
        "### AÑADIR UN ELEMENTO"
      ]
    },
    {
      "cell_type": "code",
      "execution_count": null,
      "metadata": {
        "colab": {
          "base_uri": "https://localhost:8080/"
        },
        "id": "Na_5kChZlsoA",
        "outputId": "26e24adf-c03a-438f-e316-80c8f1f8d0af"
      },
      "outputs": [
        {
          "name": "stdout",
          "output_type": "stream",
          "text": [
            "{1, 2, 3, 4, 5, 6}\n"
          ]
        }
      ],
      "source": [
        "# Añadir elementos a un conjunto .add(x)\n",
        "conjunto.add(6)\n",
        "print(conjunto)\n"
      ]
    },
    {
      "cell_type": "markdown",
      "metadata": {
        "id": "umYarTXTILRC"
      },
      "source": [
        "### ELIMINAR UN ELEMENTO"
      ]
    },
    {
      "cell_type": "code",
      "execution_count": null,
      "metadata": {
        "colab": {
          "base_uri": "https://localhost:8080/"
        },
        "id": "LSQayf7eluD5",
        "outputId": "b92a80d5-f977-4aef-bcb7-02d3a50dce62"
      },
      "outputs": [
        {
          "name": "stdout",
          "output_type": "stream",
          "text": [
            "{1, 3, 4, 5, 6}\n",
            "{1, 4, 5, 6}\n"
          ]
        }
      ],
      "source": [
        "# Eliminar elementos de un conjunto\n",
        "conjunto.remove(2)\n",
        "print(conjunto)\n",
        "\n",
        "# Eliminar elementos de un conjunto con .discard(x)\n",
        "conjunto.discard(3)\n",
        "print(conjunto)\n"
      ]
    },
    {
      "cell_type": "markdown",
      "metadata": {
        "id": "H7QfmIYqbvVn"
      },
      "source": [
        "###ELIMINAR ELEMENTOS DE UN CONJUNTO"
      ]
    },
    {
      "cell_type": "code",
      "execution_count": null,
      "metadata": {
        "colab": {
          "base_uri": "https://localhost:8080/"
        },
        "id": "I2uzI9urb0ph",
        "outputId": "f6157675-3aec-475c-ea99-57d536350560"
      },
      "outputs": [
        {
          "name": "stdout",
          "output_type": "stream",
          "text": [
            "set()\n"
          ]
        }
      ],
      "source": [
        "# Eliminar todos los elementos: set1.clear() vacía el conjunto.\n",
        "conjunto.clear()\n",
        "print(conjunto)"
      ]
    },
    {
      "cell_type": "markdown",
      "metadata": {
        "id": "hOv8he2CIQ6K"
      },
      "source": [
        "### UNIÓN, INTERSECIÓN Y DIFERENCIA DE CONJUNTOS"
      ]
    },
    {
      "cell_type": "code",
      "execution_count": null,
      "metadata": {
        "colab": {
          "base_uri": "https://localhost:8080/"
        },
        "id": "4llatTI0lvhO",
        "outputId": "36049260-0917-4880-bcc3-9901068f7fdb"
      },
      "outputs": [
        {
          "name": "stdout",
          "output_type": "stream",
          "text": [
            "Unión: {1, 2, 3, 4, 5}\n",
            "Intersección: {3}\n",
            "Diferencia: {1, 2}\n"
          ]
        }
      ],
      "source": [
        "# Unión de conjuntos\n",
        "conjunto1 = {1, 2, 3}\n",
        "conjunto2 = {3, 4, 5}\n",
        "union = conjunto1 | conjunto2\n",
        "print(f'Unión: {union}')\n",
        "\n",
        "# Intersección de conjuntos\n",
        "interseccion = conjunto1 & conjunto2\n",
        "print(f'Intersección: {interseccion}')\n",
        "\n",
        "# Diferencia de conjuntos\n",
        "diferencia = conjunto1 - conjunto2\n",
        "print(f'Diferencia: {diferencia}')\n"
      ]
    },
    {
      "cell_type": "markdown",
      "metadata": {
        "id": "ju7tysnTa3SH"
      },
      "source": [
        "###EJEMPLO DE PERMANENCIA EN CONJUNTOS"
      ]
    },
    {
      "cell_type": "code",
      "execution_count": null,
      "metadata": {
        "colab": {
          "base_uri": "https://localhost:8080/"
        },
        "id": "0qT9A1Z1bZqw",
        "outputId": "bab2a51e-3bf9-40f2-f86d-9e3948bd5ce1"
      },
      "outputs": [
        {
          "name": "stdout",
          "output_type": "stream",
          "text": [
            "True\n",
            "True\n",
            "False\n"
          ]
        }
      ],
      "source": [
        "#Ejemplo de Pertenencia en Conjuntos\n",
        "# Definimos un conjunto\n",
        "conjunto1 = set([1,2,3,4,5,6])\n",
        "# Verificamos si ciertos elementos están en el conjunto\n",
        "print(5 in conjunto1)\n",
        "print(6 in conjunto1)\n",
        "print(7 in conjunto1)"
      ]
    },
    {
      "cell_type": "markdown",
      "metadata": {
        "id": "YnWCs4vZbdWB"
      },
      "source": [
        "###LONGITUD DE UN CONJUNTO"
      ]
    },
    {
      "cell_type": "code",
      "execution_count": null,
      "metadata": {
        "colab": {
          "base_uri": "https://localhost:8080/"
        },
        "id": "zbxah0fcbgyH",
        "outputId": "bc893657-0118-4d4f-ceae-ed407162edcb"
      },
      "outputs": [
        {
          "data": {
            "text/plain": [
              "6"
            ]
          },
          "execution_count": 6,
          "metadata": {},
          "output_type": "execute_result"
        }
      ],
      "source": [
        "#Longitud de un conjunto: len(set1)\n",
        "#Devuelve el número de elementos en el conjunto.\n",
        "\n",
        "len(conjunto1)"
      ]
    },
    {
      "cell_type": "markdown",
      "metadata": {
        "id": "NOOEuVQbcuHX"
      },
      "source": [
        "###DIFERENCIA SIMÉTRICA"
      ]
    },
    {
      "cell_type": "code",
      "execution_count": null,
      "metadata": {
        "colab": {
          "base_uri": "https://localhost:8080/"
        },
        "id": "ZhCcicbVcx5n",
        "outputId": "c45e2942-4042-4bcb-fbf6-1c15793f384e"
      },
      "outputs": [
        {
          "name": "stdout",
          "output_type": "stream",
          "text": [
            "{1, 2, 4, 5}\n",
            "{1, 2, 4, 5}\n"
          ]
        }
      ],
      "source": [
        "# Es una operación de conjuntos que devuelve un nuevo conjunto\n",
        "# con los elementos que están en uno de los conjuntos o en el otro, pero no en ambos.\n",
        "# Es decir, la diferencia simétrica entre dos conjuntos A y B contiene los elementos que están en A o en B,\n",
        "# pero no en la intersección de A y B.\n",
        "set1 = {1,2,3}\n",
        "set2 = {3,4,5}\n",
        "\n",
        "diferencia_simetrica_set = set1 ^ set2\n",
        "print(diferencia_simetrica_set)\n",
        "\n",
        "diferenci_symetric = set1.symmetric_difference(set2)\n",
        "print(diferenci_symetric)"
      ]
    },
    {
      "cell_type": "markdown",
      "metadata": {
        "id": "bwKbQDHKlxDm"
      },
      "source": [
        "# Manejo de Excepciones"
      ]
    },
    {
      "cell_type": "markdown",
      "metadata": {
        "id": "l9bNKxmgnLl0"
      },
      "source": [
        "## Lectura y escritura de archivos"
      ]
    },
    {
      "cell_type": "code",
      "execution_count": null,
      "metadata": {
        "colab": {
          "base_uri": "https://localhost:8080/"
        },
        "id": "9eYSoJBXm3jb",
        "outputId": "bbbff327-ca58-4a33-baf9-514d4845ae40"
      },
      "outputs": [
        {
          "name": "stdout",
          "output_type": "stream",
          "text": [
            "El archivo no existe.\n"
          ]
        }
      ],
      "source": [
        "try:\n",
        "    file = open('data.txt', 'r')\n",
        "    data = file.read()\n",
        "except FileNotFoundError:\n",
        "    print(\"El archivo no existe.\")\n",
        "except IOError:\n",
        "    print(\"Error al leer el archivo.\")\n",
        "else:\n",
        "    print(\"Lectura exitosa:\", data)\n",
        "finally:\n",
        "    if 'file' in locals():\n",
        "        file.close()\n"
      ]
    },
    {
      "cell_type": "markdown",
      "metadata": {
        "id": "9x4Ahcikn1bJ"
      },
      "source": [
        "## Conexiones de red"
      ]
    },
    {
      "cell_type": "code",
      "execution_count": null,
      "metadata": {
        "colab": {
          "base_uri": "https://localhost:8080/"
        },
        "id": "ZI5taihkn4lN",
        "outputId": "bd5a10f3-1168-49be-ef41-da4ca253487f"
      },
      "outputs": [
        {
          "name": "stdout",
          "output_type": "stream",
          "text": [
            "Error de red: HTTPSConnectionPool(host='api.example.com', port=443): Max retries exceeded with url: /data (Caused by NameResolutionError(\"<urllib3.connection.HTTPSConnection object at 0x7f726dbcc730>: Failed to resolve 'api.example.com' ([Errno -2] Name or service not known)\"))\n",
            "Intento de conexión finalizado.\n"
          ]
        }
      ],
      "source": [
        "import requests\n",
        "\n",
        "try:\n",
        "    response = requests.get('https://api.example.com/data')\n",
        "    response.raise_for_status()  # Esto lanzará una excepción si la solicitud no tuvo éxito\n",
        "except requests.RequestException as e:\n",
        "    print(f\"Error de red: {e}\")\n",
        "else:\n",
        "    print(\"Datos recibidos:\", response.json())\n",
        "finally:\n",
        "    print(\"Intento de conexión finalizado.\")\n"
      ]
    },
    {
      "cell_type": "markdown",
      "metadata": {
        "id": "NwuLJAjroBOT"
      },
      "source": [
        "##Acceso a base de datos"
      ]
    },
    {
      "cell_type": "code",
      "execution_count": null,
      "metadata": {
        "colab": {
          "base_uri": "https://localhost:8080/"
        },
        "id": "TdPVDAf8oGCz",
        "outputId": "c6f218bf-d910-468c-9c70-d3a690356986"
      },
      "outputs": [
        {
          "name": "stdout",
          "output_type": "stream",
          "text": [
            "Error de base de datos: no such table: users\n"
          ]
        }
      ],
      "source": [
        "import sqlite3\n",
        "\n",
        "try:\n",
        "    conn = sqlite3.connect('example.db')\n",
        "    cursor = conn.cursor()\n",
        "    cursor.execute('SELECT * FROM users')\n",
        "    data = cursor.fetchall()\n",
        "except sqlite3.DatabaseError as e:\n",
        "    print(f\"Error de base de datos: {e}\")\n",
        "else:\n",
        "    for row in data:\n",
        "        print(row)\n",
        "finally:\n",
        "    if 'conn' in locals():\n",
        "        conn.close()\n"
      ]
    },
    {
      "cell_type": "markdown",
      "metadata": {
        "id": "06RZkScOoHny"
      },
      "source": [
        "## Procesamiento de datos"
      ]
    },
    {
      "cell_type": "code",
      "execution_count": null,
      "metadata": {
        "colab": {
          "base_uri": "https://localhost:8080/"
        },
        "id": "JZTblPmaoLv9",
        "outputId": "3cd02a03-9a2b-4cbd-98d6-60cb53fdeac5"
      },
      "outputs": [
        {
          "name": "stdout",
          "output_type": "stream",
          "text": [
            "Error de valor: invalid literal for int() with base 10: 'abc'\n",
            "Proceso de datos completado.\n"
          ]
        }
      ],
      "source": [
        "def process_data(data):\n",
        "    try:\n",
        "        result = [int(i) for i in data]\n",
        "    except ValueError as e:\n",
        "        print(f\"Error de valor: {e}\")\n",
        "    else:\n",
        "        print(\"Datos procesados correctamente:\", result)\n",
        "    finally:\n",
        "        print(\"Proceso de datos completado.\")\n",
        "\n",
        "data = [\"10\", \"20\", \"abc\", \"40\"]\n",
        "process_data(data)\n"
      ]
    },
    {
      "cell_type": "code",
      "execution_count": null,
      "metadata": {
        "colab": {
          "base_uri": "https://localhost:8080/"
        },
        "id": "3WjHER4alXYB",
        "outputId": "a0dba6e5-5efb-42b0-aca1-c222ac8daf0d"
      },
      "outputs": [
        {
          "name": "stdout",
          "output_type": "stream",
          "text": [
            "Modelo entrenado correctamente.\n",
            "Introduce un texto para clasificar: me gusta el helado\n",
            "La predicción es: positivo\n",
            "Predicción realizada exitosamente.\n",
            "Proceso de clasificación completado.\n"
          ]
        }
      ],
      "source": [
        "import numpy as np\n",
        "from sklearn.feature_extraction.text import TfidfVectorizer\n",
        "from sklearn.naive_bayes import MultinomialNB\n",
        "from sklearn.pipeline import make_pipeline\n",
        "\n",
        "# Datos de ejemplo\n",
        "data = [\n",
        "    (\"El cielo es azul\", \"positivo\"),\n",
        "    (\"Me encanta el sol\", \"positivo\"),\n",
        "    (\"La lluvia es molesta\", \"negativo\"),\n",
        "    (\"El tráfico es horrible\", \"negativo\")\n",
        "]\n",
        "\n",
        "# Dividir datos en texto y etiquetas\n",
        "texts, labels = zip(*data)\n",
        "\n",
        "# Crear un pipeline para la vectorización y clasificación\n",
        "model = make_pipeline(TfidfVectorizer(), MultinomialNB())\n",
        "\n",
        "try:\n",
        "    # Entrenar el modelo\n",
        "    model.fit(texts, labels)\n",
        "    print(\"Modelo entrenado correctamente.\")\n",
        "\n",
        "    # Realizar una predicción\n",
        "    test_text = input(\"Introduce un texto para clasificar: \")\n",
        "    prediction = model.predict([test_text])\n",
        "    print(f\"La predicción es: {prediction[0]}\")\n",
        "except ValueError as ve:\n",
        "    print(f\"Error de valor: {ve}\")\n",
        "except Exception as e:\n",
        "    print(f\"Ocurrió un error inesperado: {e}\")\n",
        "else:\n",
        "    print(\"Predicción realizada exitosamente.\")\n",
        "finally:\n",
        "    print(\"Proceso de clasificación completado.\")"
      ]
    },
    {
      "cell_type": "markdown",
      "metadata": {
        "id": "hrwp8wEC6Gj5"
      },
      "source": [
        "Bibliografía: https://www.w3schools.com/python/python_ml_getting_started.asp"
      ]
    }
  ],
  "metadata": {
    "colab": {
      "collapsed_sections": [
        "4F9PZz8wlHvz"
      ],
      "provenance": [],
      "toc_visible": true
    },
    "kernelspec": {
      "display_name": "Python 3",
      "name": "python3"
    },
    "language_info": {
      "name": "python",
      "version": "3.12.4"
    }
  },
  "nbformat": 4,
  "nbformat_minor": 0
}
